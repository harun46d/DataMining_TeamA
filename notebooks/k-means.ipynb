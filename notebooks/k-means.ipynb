{
 "cells": [
  {
   "cell_type": "code",
   "execution_count": 49,
   "metadata": {},
   "outputs": [],
   "source": [
    "from sklearn.cluster import KMeans\n",
    "from sklearn.decomposition import PCA\n",
    "from sklearn.preprocessing import StandardScaler\n",
    "import matplotlib.backends.backend_pdf as pdf\n",
    "import matplotlib.pyplot as plt\n",
    "from mpl_toolkits.mplot3d import Axes3D\n",
    "import seaborn as sns\n",
    "import pandas as pd\n",
    "import numpy as np\n",
    "import os"
   ]
  },
  {
   "cell_type": "code",
   "execution_count": 17,
   "metadata": {},
   "outputs": [],
   "source": [
    "folder_repository = \"/Users/harun/Desktop/Uni/4. Semester/Data Mining/DataMining_TeamA\"\n",
    "\n",
    "folder_res = f\"{folder_repository}/resources/data\"\n",
    "folder_prep = f\"{folder_repository}/resources/data-prep\"\n",
    "folder_shrinked = f\"{folder_repository}/resources/data_shrinked\"\n",
    "folder_output = f\"{folder_repository}/output/plots\"\n",
    "\n",
    "\n",
    "cwd = os.getcwd()"
   ]
  },
  {
   "cell_type": "code",
   "execution_count": 53,
   "metadata": {},
   "outputs": [
    {
     "name": "stdout",
     "output_type": "stream",
     "text": [
      "          0         1         2         3         4         5         6  \\\n",
      "0  0.713318  0.815219  0.770057  0.905161  0.815307  0.199456  0.764048   \n",
      "1  0.172363  0.728433  0.758400  0.289462  0.127155  0.253902  0.802504   \n",
      "2  0.253594  0.116909  0.223069  0.097810  0.115945  0.303916  0.148920   \n",
      "3  0.727635  0.921517  0.790364  0.124677  0.279420  0.806520  0.824113   \n",
      "4  0.776459  0.855408  0.142186  0.297056  0.918800  0.806131  0.763673   \n",
      "\n",
      "          7         8  Component 1  Component 2  Component 3  \\\n",
      "0  0.196465  0.832645    -1.580184     1.953945     0.215300   \n",
      "1  0.803742  0.315286    -0.513364    -1.168897    -1.605653   \n",
      "2  0.801463  0.167913     2.274483    -1.330105    -1.079580   \n",
      "3  0.249693  0.139894    -2.264421    -0.794842    -0.611423   \n",
      "4  0.814193  0.241745    -0.427021     0.300865     0.909052   \n",
      "\n",
      "   Segment K-means PCA  \n",
      "0                    2  \n",
      "1                    3  \n",
      "2                    0  \n",
      "3                    3  \n",
      "4                    3  \n"
     ]
    },
    {
     "name": "stderr",
     "output_type": "stream",
     "text": [
      "/Users/harun/opt/anaconda3/envs/realenv/lib/python3.9/site-packages/sklearn/cluster/_kmeans.py:870: FutureWarning: The default value of `n_init` will change from 10 to 'auto' in 1.4. Set the value of `n_init` explicitly to suppress the warning\n",
      "  warnings.warn(\n"
     ]
    }
   ],
   "source": [
    "all_datasets = os.listdir(folder_shrinked)\n",
    "all_datasets.remove('EARTH-shrinked.csv')\n",
    "def pca_score():\n",
    "    for filename in all_datasets:\n",
    "        if filename.endswith('.csv'):\n",
    "            df = pd.read_csv(f\"{folder_shrinked}/{filename}\")\n",
    "            \n",
    "            scaler = StandardScaler()\n",
    "            df_std = scaler.fit_transform(df)\n",
    "            \n",
    "            pca = PCA(n_components=3)\n",
    "            pca.fit(df_std)\n",
    "            scores_pca = pca.transform(df_std)\n",
    "            \n",
    "        \n",
    "            '''\n",
    "            wcss = []\n",
    "            for i in range(1, 21):\n",
    "                kmeans_pca = KMeans(n_clusters = i, init = 'k-means++', random_state = 42)\n",
    "                kmeans_pca.fit(scores_pca)\n",
    "                wcss.append(kmeans_pca.inertia_)\n",
    "            '''\n",
    "            \n",
    "            kmeans_pca = KMeans(n_clusters = 4, init = \"k-means++\", random_state = 42)       \n",
    "            kmeans_pca.fit(scores_pca)\n",
    "            \n",
    "            df_pca_kmeans = pd.concat([df.reset_index(drop = True), pd.DataFrame (scores_pca)], axis = 1)\n",
    "            df_pca_kmeans.columns.values[-3: ] = ['Component 1', 'Component 2', 'Component 3']\n",
    "            df_pca_kmeans['Segment K-means PCA'] = kmeans_pca.labels_\n",
    "            \n",
    "            print(df_pca_kmeans.head())\n",
    "            \n",
    "            \n",
    "            fig = plt.figure()\n",
    "            ax = fig.add_subplot(111, projection='3d')\n",
    "            pc1 = df_pca_\n",
    "            ax.scatter(x1, x2, x3)\n",
    "\n",
    "            # Achsentitel hinzufügen\n",
    "            ax.set_xlabel('Hauptkomponente 1')\n",
    "            ax.set_ylabel('Hauptkomponente 2')\n",
    "            ax.set_zlabel('Hauptkomponente 3')\n",
    "            break\n",
    "            \n",
    "\n",
    "pca_score()"
   ]
  },
  {
   "cell_type": "code",
   "execution_count": null,
   "metadata": {},
   "outputs": [],
   "source": []
  }
 ],
 "metadata": {
  "kernelspec": {
   "display_name": "realenv",
   "language": "python",
   "name": "python3"
  },
  "language_info": {
   "codemirror_mode": {
    "name": "ipython",
    "version": 3
   },
   "file_extension": ".py",
   "mimetype": "text/x-python",
   "name": "python",
   "nbconvert_exporter": "python",
   "pygments_lexer": "ipython3",
   "version": "3.9.16"
  },
  "orig_nbformat": 4
 },
 "nbformat": 4,
 "nbformat_minor": 2
}
