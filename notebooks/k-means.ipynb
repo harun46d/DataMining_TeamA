{
 "cells": [
  {
   "cell_type": "code",
   "execution_count": 78,
   "metadata": {},
   "outputs": [],
   "source": [
    "from sklearn.cluster import KMeans\n",
    "from sklearn.metrics import silhouette_score\n",
    "from sklearn.decomposition import PCA\n",
    "from sklearn.preprocessing import StandardScaler\n",
    "import matplotlib.backends.backend_pdf as pdf\n",
    "import matplotlib.pyplot as plt\n",
    "from mpl_toolkits.mplot3d import Axes3D\n",
    "import seaborn as sns\n",
    "import pandas as pd\n",
    "import numpy as np\n",
    "import os"
   ]
  },
  {
   "cell_type": "code",
   "execution_count": 17,
   "metadata": {},
   "outputs": [],
   "source": [
    "folder_repository = \"/Users/harun/Desktop/Uni/4. Semester/Data Mining/DataMining_TeamA\"\n",
    "\n",
    "folder_res = f\"{folder_repository}/resources/data\"\n",
    "folder_prep = f\"{folder_repository}/resources/data-prep\"\n",
    "folder_shrinked = f\"{folder_repository}/resources/data_shrinked\"\n",
    "folder_output = f\"{folder_repository}/output/plots\"\n",
    "\n",
    "\n",
    "cwd = os.getcwd()"
   ]
  },
  {
   "cell_type": "code",
   "execution_count": 91,
   "metadata": {},
   "outputs": [
    {
     "name": "stderr",
     "output_type": "stream",
     "text": [
      "/Users/harun/opt/anaconda3/envs/realenv/lib/python3.9/site-packages/sklearn/cluster/_kmeans.py:870: FutureWarning: The default value of `n_init` will change from 10 to 'auto' in 1.4. Set the value of `n_init` explicitly to suppress the warning\n",
      "  warnings.warn(\n",
      "/Users/harun/opt/anaconda3/envs/realenv/lib/python3.9/site-packages/sklearn/cluster/_kmeans.py:870: FutureWarning: The default value of `n_init` will change from 10 to 'auto' in 1.4. Set the value of `n_init` explicitly to suppress the warning\n",
      "  warnings.warn(\n"
     ]
    },
    {
     "name": "stdout",
     "output_type": "stream",
     "text": [
      "x1-shrinked.csv\n",
      "SUN-shrinked.csv\n",
      "HITCHHIKER-shrinked.csv\n"
     ]
    },
    {
     "name": "stderr",
     "output_type": "stream",
     "text": [
      "/Users/harun/opt/anaconda3/envs/realenv/lib/python3.9/site-packages/sklearn/cluster/_kmeans.py:870: FutureWarning: The default value of `n_init` will change from 10 to 'auto' in 1.4. Set the value of `n_init` explicitly to suppress the warning\n",
      "  warnings.warn(\n",
      "/Users/harun/opt/anaconda3/envs/realenv/lib/python3.9/site-packages/sklearn/cluster/_kmeans.py:870: FutureWarning: The default value of `n_init` will change from 10 to 'auto' in 1.4. Set the value of `n_init` explicitly to suppress the warning\n",
      "  warnings.warn(\n"
     ]
    },
    {
     "name": "stdout",
     "output_type": "stream",
     "text": [
      "x0-shrinked.csv\n"
     ]
    },
    {
     "name": "stderr",
     "output_type": "stream",
     "text": [
      "/Users/harun/opt/anaconda3/envs/realenv/lib/python3.9/site-packages/sklearn/cluster/_kmeans.py:870: FutureWarning: The default value of `n_init` will change from 10 to 'auto' in 1.4. Set the value of `n_init` explicitly to suppress the warning\n",
      "  warnings.warn(\n",
      "/Users/harun/opt/anaconda3/envs/realenv/lib/python3.9/site-packages/sklearn/cluster/_kmeans.py:870: FutureWarning: The default value of `n_init` will change from 10 to 'auto' in 1.4. Set the value of `n_init` explicitly to suppress the warning\n",
      "  warnings.warn(\n",
      "/Users/harun/opt/anaconda3/envs/realenv/lib/python3.9/site-packages/sklearn/cluster/_kmeans.py:870: FutureWarning: The default value of `n_init` will change from 10 to 'auto' in 1.4. Set the value of `n_init` explicitly to suppress the warning\n",
      "  warnings.warn(\n",
      "/Users/harun/opt/anaconda3/envs/realenv/lib/python3.9/site-packages/sklearn/cluster/_kmeans.py:870: FutureWarning: The default value of `n_init` will change from 10 to 'auto' in 1.4. Set the value of `n_init` explicitly to suppress the warning\n",
      "  warnings.warn(\n"
     ]
    },
    {
     "name": "stdout",
     "output_type": "stream",
     "text": [
      "FIBONACCI-shrinked.csv\n",
      "EINSTEIN-shrinked.csv\n",
      "SYMMETRIC-shrinked.csv\n",
      "HOBBIT-shrinked.csv\n"
     ]
    },
    {
     "name": "stderr",
     "output_type": "stream",
     "text": [
      "/Users/harun/opt/anaconda3/envs/realenv/lib/python3.9/site-packages/sklearn/cluster/_kmeans.py:870: FutureWarning: The default value of `n_init` will change from 10 to 'auto' in 1.4. Set the value of `n_init` explicitly to suppress the warning\n",
      "  warnings.warn(\n",
      "/Users/harun/opt/anaconda3/envs/realenv/lib/python3.9/site-packages/sklearn/cluster/_kmeans.py:870: FutureWarning: The default value of `n_init` will change from 10 to 'auto' in 1.4. Set the value of `n_init` explicitly to suppress the warning\n",
      "  warnings.warn(\n",
      "/Users/harun/opt/anaconda3/envs/realenv/lib/python3.9/site-packages/sklearn/cluster/_kmeans.py:870: FutureWarning: The default value of `n_init` will change from 10 to 'auto' in 1.4. Set the value of `n_init` explicitly to suppress the warning\n",
      "  warnings.warn(\n",
      "/Users/harun/opt/anaconda3/envs/realenv/lib/python3.9/site-packages/sklearn/cluster/_kmeans.py:870: FutureWarning: The default value of `n_init` will change from 10 to 'auto' in 1.4. Set the value of `n_init` explicitly to suppress the warning\n",
      "  warnings.warn(\n",
      "/Users/harun/opt/anaconda3/envs/realenv/lib/python3.9/site-packages/sklearn/cluster/_kmeans.py:870: FutureWarning: The default value of `n_init` will change from 10 to 'auto' in 1.4. Set the value of `n_init` explicitly to suppress the warning\n",
      "  warnings.warn(\n"
     ]
    },
    {
     "name": "stdout",
     "output_type": "stream",
     "text": [
      "ROSETTA-shrinked.csv\n",
      "LOREM-shrinked.csv\n",
      "NKS-shrinked.csv\n",
      "SALT-shrinked.csv\n",
      "x2-shrinked.csv\n",
      "[0.3111580289764735, 0.3791950503703685, 0.9864003295295417, 0.9971364392326251, 0.37218883915855233, 0.3725103996310534, 0.3966937731401711, 0.4628352648834971, 0.38013404444863447, 0.3661788735996853, 0.37153888372505395, 0.3956805746433526, 0.3240458128202219]\n"
     ]
    },
    {
     "ename": "IndexError",
     "evalue": "Inconsistent shape between the condition and the input (got (13, 1) and (13,))",
     "output_type": "error",
     "traceback": [
      "\u001b[0;31m---------------------------------------------------------------------------\u001b[0m",
      "\u001b[0;31mIndexError\u001b[0m                                Traceback (most recent call last)",
      "Cell \u001b[0;32mIn[91], line 58\u001b[0m\n\u001b[1;32m     55\u001b[0m     \u001b[39mprint\u001b[39m(silhouette_scores)\n\u001b[1;32m     56\u001b[0m     heatmap(silhouette_scores)\n\u001b[0;32m---> 58\u001b[0m pca_score()\n",
      "Cell \u001b[0;32mIn[91], line 56\u001b[0m, in \u001b[0;36mpca_score\u001b[0;34m()\u001b[0m\n\u001b[1;32m     35\u001b[0m \u001b[39m        \u001b[39m\u001b[39m'''\u001b[39;00m\n\u001b[1;32m     36\u001b[0m \u001b[39m        fig = plt.figure(figsize=(15,7))\u001b[39;00m\n\u001b[1;32m     37\u001b[0m \u001b[39m        ax = fig.add_subplot(111, projection='3d')\u001b[39;00m\n\u001b[0;32m   (...)\u001b[0m\n\u001b[1;32m     53\u001b[0m \u001b[39mpdf_file.close()\u001b[39;00m\n\u001b[1;32m     54\u001b[0m \u001b[39m'''\u001b[39;00m\n\u001b[1;32m     55\u001b[0m \u001b[39mprint\u001b[39m(silhouette_scores)\n\u001b[0;32m---> 56\u001b[0m heatmap(silhouette_scores)\n",
      "Cell \u001b[0;32mIn[90], line 3\u001b[0m, in \u001b[0;36mheatmap\u001b[0;34m(array)\u001b[0m\n\u001b[1;32m      1\u001b[0m \u001b[39mdef\u001b[39;00m \u001b[39mheatmap\u001b[39m(array):\n\u001b[1;32m      2\u001b[0m     plt\u001b[39m.\u001b[39mfigure(figsize\u001b[39m=\u001b[39m(\u001b[39m8\u001b[39m, \u001b[39m6\u001b[39m))  \n\u001b[0;32m----> 3\u001b[0m     sns\u001b[39m.\u001b[39;49mheatmap(array, annot\u001b[39m=\u001b[39;49m\u001b[39mTrue\u001b[39;49;00m, cmap\u001b[39m=\u001b[39;49m\u001b[39m'\u001b[39;49m\u001b[39mviridis\u001b[39;49m\u001b[39m'\u001b[39;49m) \n\u001b[1;32m      4\u001b[0m     plt\u001b[39m.\u001b[39mtitle(\u001b[39m'\u001b[39m\u001b[39mHeatmap\u001b[39m\u001b[39m'\u001b[39m) \n\u001b[1;32m      5\u001b[0m     plt\u001b[39m.\u001b[39mxlabel(\u001b[39m'\u001b[39m\u001b[39mSpalte\u001b[39m\u001b[39m'\u001b[39m) \n",
      "File \u001b[0;32m~/opt/anaconda3/envs/realenv/lib/python3.9/site-packages/seaborn/matrix.py:446\u001b[0m, in \u001b[0;36mheatmap\u001b[0;34m(data, vmin, vmax, cmap, center, robust, annot, fmt, annot_kws, linewidths, linecolor, cbar, cbar_kws, cbar_ax, square, xticklabels, yticklabels, mask, ax, **kwargs)\u001b[0m\n\u001b[1;32m    365\u001b[0m \u001b[39m\u001b[39m\u001b[39m\"\"\"Plot rectangular data as a color-encoded matrix.\u001b[39;00m\n\u001b[1;32m    366\u001b[0m \n\u001b[1;32m    367\u001b[0m \u001b[39mThis is an Axes-level function and will draw the heatmap into the\u001b[39;00m\n\u001b[0;32m   (...)\u001b[0m\n\u001b[1;32m    443\u001b[0m \n\u001b[1;32m    444\u001b[0m \u001b[39m\"\"\"\u001b[39;00m\n\u001b[1;32m    445\u001b[0m \u001b[39m# Initialize the plotter object\u001b[39;00m\n\u001b[0;32m--> 446\u001b[0m plotter \u001b[39m=\u001b[39m _HeatMapper(data, vmin, vmax, cmap, center, robust, annot, fmt,\n\u001b[1;32m    447\u001b[0m                       annot_kws, cbar, cbar_kws, xticklabels,\n\u001b[1;32m    448\u001b[0m                       yticklabels, mask)\n\u001b[1;32m    450\u001b[0m \u001b[39m# Add the pcolormesh kwargs here\u001b[39;00m\n\u001b[1;32m    451\u001b[0m kwargs[\u001b[39m\"\u001b[39m\u001b[39mlinewidths\u001b[39m\u001b[39m\"\u001b[39m] \u001b[39m=\u001b[39m linewidths\n",
      "File \u001b[0;32m~/opt/anaconda3/envs/realenv/lib/python3.9/site-packages/seaborn/matrix.py:115\u001b[0m, in \u001b[0;36m_HeatMapper.__init__\u001b[0;34m(self, data, vmin, vmax, cmap, center, robust, annot, fmt, annot_kws, cbar, cbar_kws, xticklabels, yticklabels, mask)\u001b[0m\n\u001b[1;32m    112\u001b[0m \u001b[39m# Validate the mask and convert to DataFrame\u001b[39;00m\n\u001b[1;32m    113\u001b[0m mask \u001b[39m=\u001b[39m _matrix_mask(data, mask)\n\u001b[0;32m--> 115\u001b[0m plot_data \u001b[39m=\u001b[39m np\u001b[39m.\u001b[39;49mma\u001b[39m.\u001b[39;49mmasked_where(np\u001b[39m.\u001b[39;49masarray(mask), plot_data)\n\u001b[1;32m    117\u001b[0m \u001b[39m# Get good names for the rows and columns\u001b[39;00m\n\u001b[1;32m    118\u001b[0m xtickevery \u001b[39m=\u001b[39m \u001b[39m1\u001b[39m\n",
      "File \u001b[0;32m~/opt/anaconda3/envs/realenv/lib/python3.9/site-packages/numpy/ma/core.py:1933\u001b[0m, in \u001b[0;36mmasked_where\u001b[0;34m(condition, a, copy)\u001b[0m\n\u001b[1;32m   1931\u001b[0m (cshape, ashape) \u001b[39m=\u001b[39m (cond\u001b[39m.\u001b[39mshape, a\u001b[39m.\u001b[39mshape)\n\u001b[1;32m   1932\u001b[0m \u001b[39mif\u001b[39;00m cshape \u001b[39mand\u001b[39;00m cshape \u001b[39m!=\u001b[39m ashape:\n\u001b[0;32m-> 1933\u001b[0m     \u001b[39mraise\u001b[39;00m \u001b[39mIndexError\u001b[39;00m(\u001b[39m\"\u001b[39m\u001b[39mInconsistent shape between the condition and the input\u001b[39m\u001b[39m\"\u001b[39m\n\u001b[1;32m   1934\u001b[0m                      \u001b[39m\"\u001b[39m\u001b[39m (got \u001b[39m\u001b[39m%s\u001b[39;00m\u001b[39m and \u001b[39m\u001b[39m%s\u001b[39;00m\u001b[39m)\u001b[39m\u001b[39m\"\u001b[39m \u001b[39m%\u001b[39m (cshape, ashape))\n\u001b[1;32m   1935\u001b[0m \u001b[39mif\u001b[39;00m \u001b[39mhasattr\u001b[39m(a, \u001b[39m'\u001b[39m\u001b[39m_mask\u001b[39m\u001b[39m'\u001b[39m):\n\u001b[1;32m   1936\u001b[0m     cond \u001b[39m=\u001b[39m mask_or(cond, a\u001b[39m.\u001b[39m_mask)\n",
      "\u001b[0;31mIndexError\u001b[0m: Inconsistent shape between the condition and the input (got (13, 1) and (13,))"
     ]
    },
    {
     "data": {
      "text/plain": [
       "<Figure size 800x600 with 0 Axes>"
      ]
     },
     "metadata": {},
     "output_type": "display_data"
    }
   ],
   "source": [
    "all_datasets = os.listdir(folder_shrinked)\n",
    "all_datasets.remove('EARTH-shrinked.csv')\n",
    "def pca_score():\n",
    "    #pdf_file = pdf.PdfPages(f'{folder_output}/knn-clustering-c-5.pdf')\n",
    "    silhouette_scores = []\n",
    "    for filename in all_datasets:\n",
    "        if filename.endswith('.csv'):\n",
    "            df = pd.read_csv(f\"{folder_shrinked}/{filename}\")\n",
    "            \n",
    "            scaler = StandardScaler()\n",
    "            df_std = scaler.fit_transform(df)\n",
    "            \n",
    "            pca = PCA(n_components=3)\n",
    "            pca.fit(df_std)\n",
    "            scores_pca = pca.transform(df_std)\n",
    "            \n",
    "            # Call function to calculate the WCSSs\n",
    "            #wcsss_calc(scores_pca)\n",
    "            \n",
    "            kmeans_pca = KMeans(n_clusters = 3, init = \"k-means++\", random_state = 42)       \n",
    "            kmeans_pca.fit(scores_pca)\n",
    "            \n",
    "            # Concatenate PCs with origin\n",
    "            df_pca_kmeans = pd.concat([df.reset_index(drop = True), pd.DataFrame (scores_pca)], axis = 1)\n",
    "            df_pca_kmeans.columns.values[-3: ] = ['Component 1', 'Component 2', 'Component 3']\n",
    "            df_pca_kmeans['Segment K-means PCA'] = kmeans_pca.labels_\n",
    "    \n",
    "            \n",
    "            print(filename)\n",
    "            silhouette_scores.append(silhouette_score(scores_pca, kmeans_pca.labels_))\n",
    "        \n",
    "            \n",
    "            \n",
    "            \n",
    "            '''\n",
    "            fig = plt.figure(figsize=(15,7))\n",
    "            ax = fig.add_subplot(111, projection='3d')\n",
    "            pc1 = df_pca_kmeans.iloc[:, -4]\n",
    "            pc2 = df_pca_kmeans.iloc[:, -3]\n",
    "            pc3 = df_pca_kmeans.iloc[:, -2]\n",
    "            scatter = ax.scatter(pc1, pc2, pc3, c=df_pca_kmeans.iloc[:, -1])\n",
    "            \n",
    "            legend = ax.legend(*scatter.legend_elements(), title='KMeans Labels')\n",
    "            ax.add_artist(legend)\n",
    "\n",
    "            # Achsentitel hinzufügen\n",
    "            ax.set_xlabel('PC1')\n",
    "            ax.set_ylabel('PC2')\n",
    "            ax.set_zlabel('PC3')\n",
    "            \n",
    "            plt.title(filename[:-4])\n",
    "            pdf_file.savefig(plt.gcf())\n",
    "    pdf_file.close()\n",
    "    '''\n",
    "    print(silhouette_scores)\n",
    "    heatmap(silhouette_scores)\n",
    "\n",
    "pca_score()\n"
   ]
  },
  {
   "cell_type": "code",
   "execution_count": 87,
   "metadata": {},
   "outputs": [],
   "source": [
    "def wcss_calc(scores_pca):\n",
    "    wcss = []\n",
    "    for i in range(1, 21):\n",
    "        kmeans_pca = KMeans(n_clusters = i, init = 'k-means++', random_state = 42)\n",
    "        kmeans_pca.fit(scores_pca)\n",
    "        wcss.append(kmeans_pca.inertia_)\n"
   ]
  },
  {
   "cell_type": "code",
   "execution_count": 93,
   "metadata": {},
   "outputs": [
    {
     "ename": "IndexError",
     "evalue": "Inconsistent shape between the condition and the input (got (13, 1) and (13,))",
     "output_type": "error",
     "traceback": [
      "\u001b[0;31m---------------------------------------------------------------------------\u001b[0m",
      "\u001b[0;31mIndexError\u001b[0m                                Traceback (most recent call last)",
      "Cell \u001b[0;32mIn[93], line 10\u001b[0m\n\u001b[1;32m      7\u001b[0m     plt\u001b[39m.\u001b[39mylabel(\u001b[39m'\u001b[39m\u001b[39mZeile\u001b[39m\u001b[39m'\u001b[39m) \n\u001b[1;32m      8\u001b[0m     plt\u001b[39m.\u001b[39mshow()\n\u001b[0;32m---> 10\u001b[0m heatmap()\n",
      "Cell \u001b[0;32mIn[93], line 4\u001b[0m, in \u001b[0;36mheatmap\u001b[0;34m()\u001b[0m\n\u001b[1;32m      2\u001b[0m array \u001b[39m=\u001b[39m [\u001b[39m0.3111580289764735\u001b[39m, \u001b[39m0.3791950503703685\u001b[39m, \u001b[39m0.9864003295295417\u001b[39m, \u001b[39m0.9971364392326251\u001b[39m, \u001b[39m0.37218883915855233\u001b[39m, \u001b[39m0.3725103996310534\u001b[39m, \u001b[39m0.3966937731401711\u001b[39m, \u001b[39m0.4628352648834971\u001b[39m, \u001b[39m0.38013404444863447\u001b[39m, \u001b[39m0.3661788735996853\u001b[39m, \u001b[39m0.37153888372505395\u001b[39m, \u001b[39m0.3956805746433526\u001b[39m, \u001b[39m0.3240458128202219\u001b[39m]\n\u001b[1;32m      3\u001b[0m plt\u001b[39m.\u001b[39mfigure(figsize\u001b[39m=\u001b[39m(\u001b[39m8\u001b[39m, \u001b[39m6\u001b[39m))  \n\u001b[0;32m----> 4\u001b[0m sns\u001b[39m.\u001b[39;49mheatmap(array, annot\u001b[39m=\u001b[39;49m\u001b[39mTrue\u001b[39;49;00m, cmap\u001b[39m=\u001b[39;49m\u001b[39m'\u001b[39;49m\u001b[39mviridis\u001b[39;49m\u001b[39m'\u001b[39;49m) \n\u001b[1;32m      5\u001b[0m plt\u001b[39m.\u001b[39mtitle(\u001b[39m'\u001b[39m\u001b[39mHeatmap\u001b[39m\u001b[39m'\u001b[39m) \n\u001b[1;32m      6\u001b[0m plt\u001b[39m.\u001b[39mxlabel(\u001b[39m'\u001b[39m\u001b[39mSpalte\u001b[39m\u001b[39m'\u001b[39m) \n",
      "File \u001b[0;32m~/opt/anaconda3/envs/realenv/lib/python3.9/site-packages/seaborn/matrix.py:446\u001b[0m, in \u001b[0;36mheatmap\u001b[0;34m(data, vmin, vmax, cmap, center, robust, annot, fmt, annot_kws, linewidths, linecolor, cbar, cbar_kws, cbar_ax, square, xticklabels, yticklabels, mask, ax, **kwargs)\u001b[0m\n\u001b[1;32m    365\u001b[0m \u001b[39m\u001b[39m\u001b[39m\"\"\"Plot rectangular data as a color-encoded matrix.\u001b[39;00m\n\u001b[1;32m    366\u001b[0m \n\u001b[1;32m    367\u001b[0m \u001b[39mThis is an Axes-level function and will draw the heatmap into the\u001b[39;00m\n\u001b[0;32m   (...)\u001b[0m\n\u001b[1;32m    443\u001b[0m \n\u001b[1;32m    444\u001b[0m \u001b[39m\"\"\"\u001b[39;00m\n\u001b[1;32m    445\u001b[0m \u001b[39m# Initialize the plotter object\u001b[39;00m\n\u001b[0;32m--> 446\u001b[0m plotter \u001b[39m=\u001b[39m _HeatMapper(data, vmin, vmax, cmap, center, robust, annot, fmt,\n\u001b[1;32m    447\u001b[0m                       annot_kws, cbar, cbar_kws, xticklabels,\n\u001b[1;32m    448\u001b[0m                       yticklabels, mask)\n\u001b[1;32m    450\u001b[0m \u001b[39m# Add the pcolormesh kwargs here\u001b[39;00m\n\u001b[1;32m    451\u001b[0m kwargs[\u001b[39m\"\u001b[39m\u001b[39mlinewidths\u001b[39m\u001b[39m\"\u001b[39m] \u001b[39m=\u001b[39m linewidths\n",
      "File \u001b[0;32m~/opt/anaconda3/envs/realenv/lib/python3.9/site-packages/seaborn/matrix.py:115\u001b[0m, in \u001b[0;36m_HeatMapper.__init__\u001b[0;34m(self, data, vmin, vmax, cmap, center, robust, annot, fmt, annot_kws, cbar, cbar_kws, xticklabels, yticklabels, mask)\u001b[0m\n\u001b[1;32m    112\u001b[0m \u001b[39m# Validate the mask and convert to DataFrame\u001b[39;00m\n\u001b[1;32m    113\u001b[0m mask \u001b[39m=\u001b[39m _matrix_mask(data, mask)\n\u001b[0;32m--> 115\u001b[0m plot_data \u001b[39m=\u001b[39m np\u001b[39m.\u001b[39;49mma\u001b[39m.\u001b[39;49mmasked_where(np\u001b[39m.\u001b[39;49masarray(mask), plot_data)\n\u001b[1;32m    117\u001b[0m \u001b[39m# Get good names for the rows and columns\u001b[39;00m\n\u001b[1;32m    118\u001b[0m xtickevery \u001b[39m=\u001b[39m \u001b[39m1\u001b[39m\n",
      "File \u001b[0;32m~/opt/anaconda3/envs/realenv/lib/python3.9/site-packages/numpy/ma/core.py:1933\u001b[0m, in \u001b[0;36mmasked_where\u001b[0;34m(condition, a, copy)\u001b[0m\n\u001b[1;32m   1931\u001b[0m (cshape, ashape) \u001b[39m=\u001b[39m (cond\u001b[39m.\u001b[39mshape, a\u001b[39m.\u001b[39mshape)\n\u001b[1;32m   1932\u001b[0m \u001b[39mif\u001b[39;00m cshape \u001b[39mand\u001b[39;00m cshape \u001b[39m!=\u001b[39m ashape:\n\u001b[0;32m-> 1933\u001b[0m     \u001b[39mraise\u001b[39;00m \u001b[39mIndexError\u001b[39;00m(\u001b[39m\"\u001b[39m\u001b[39mInconsistent shape between the condition and the input\u001b[39m\u001b[39m\"\u001b[39m\n\u001b[1;32m   1934\u001b[0m                      \u001b[39m\"\u001b[39m\u001b[39m (got \u001b[39m\u001b[39m%s\u001b[39;00m\u001b[39m and \u001b[39m\u001b[39m%s\u001b[39;00m\u001b[39m)\u001b[39m\u001b[39m\"\u001b[39m \u001b[39m%\u001b[39m (cshape, ashape))\n\u001b[1;32m   1935\u001b[0m \u001b[39mif\u001b[39;00m \u001b[39mhasattr\u001b[39m(a, \u001b[39m'\u001b[39m\u001b[39m_mask\u001b[39m\u001b[39m'\u001b[39m):\n\u001b[1;32m   1936\u001b[0m     cond \u001b[39m=\u001b[39m mask_or(cond, a\u001b[39m.\u001b[39m_mask)\n",
      "\u001b[0;31mIndexError\u001b[0m: Inconsistent shape between the condition and the input (got (13, 1) and (13,))"
     ]
    },
    {
     "data": {
      "text/plain": [
       "<Figure size 800x600 with 0 Axes>"
      ]
     },
     "metadata": {},
     "output_type": "display_data"
    }
   ],
   "source": [
    "def heatmap():\n",
    "    array = [0.3111580289764735, 0.3791950503703685, 0.9864003295295417, 0.9971364392326251, 0.37218883915855233, 0.3725103996310534, 0.3966937731401711, 0.4628352648834971, 0.38013404444863447, 0.3661788735996853, 0.37153888372505395, 0.3956805746433526, 0.3240458128202219]\n",
    "    plt.figure(figsize=(8, 6))  \n",
    "    sns.heatmap(array, annot=True, cmap='viridis') \n",
    "    plt.title('Heatmap') \n",
    "    plt.xlabel('Spalte') \n",
    "    plt.ylabel('Zeile') \n",
    "    plt.show()\n",
    "\n",
    "heatmap()"
   ]
  }
 ],
 "metadata": {
  "kernelspec": {
   "display_name": "realenv",
   "language": "python",
   "name": "python3"
  },
  "language_info": {
   "codemirror_mode": {
    "name": "ipython",
    "version": 3
   },
   "file_extension": ".py",
   "mimetype": "text/x-python",
   "name": "python",
   "nbconvert_exporter": "python",
   "pygments_lexer": "ipython3",
   "version": "3.9.16"
  },
  "orig_nbformat": 4
 },
 "nbformat": 4,
 "nbformat_minor": 2
}
