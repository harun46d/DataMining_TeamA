{
 "cells": [
  {
   "cell_type": "code",
   "execution_count": 27,
   "metadata": {},
   "outputs": [],
   "source": [
    "import os\n",
    "import pandas as pd\n",
    "import matplotlib.pyplot as plt\n",
    "import numpy as np\n",
    "import csv\n"
   ]
  },
  {
   "cell_type": "code",
   "execution_count": 2,
   "metadata": {},
   "outputs": [
    {
     "name": "stdout",
     "output_type": "stream",
     "text": [
      "['SUN.csv', 'LOREM.csv', '.DS_Store', 'HITCHHIKER.csv', 'FIBONACCI.csv', 'SYMMETRIC.csv', 'EINSTEIN.csv', 'NKS.csv', 'EARTH.csv', 'HOBBIT.csv', 'x0.csv', 'x1.csv', 'x2.csv', 'SALT.csv', 'ROSETTA.csv']\n"
     ]
    }
   ],
   "source": [
    "csv_folder_path_unprep = \"/Users/harun/Desktop/Uni/4. Semester/Data Mining/DataMining_TeamA/resources/data_renamed\"\n",
    "all_datasets = os.listdir(csv_folder_path_unprep)"
   ]
  },
  {
   "cell_type": "code",
   "execution_count": 68,
   "metadata": {},
   "outputs": [],
   "source": [
    "# Shrink datasets to nine features cause of the high variance [7, 8,9,12,13,14,17,18,19]\n",
    "\n",
    "high_variance_features = [6, 7, 8, 11, 12, 13, 16, 17, 18]\n",
    "high_variance_features_x2 = [16, 17, 18, 23, 24, 25, 30, 31, 32]\n",
    "chosen_features = []\n",
    "all_datasets.remove('x1.csv')\n",
    "\n",
    "for filename in all_datasets:\n",
    "    if filename.endswith('.csv'):\n",
    "        if filename == \"x2.csv\":\n",
    "            chosen_features = high_variance_features_x2\n",
    "        else:\n",
    "            chosen_features = high_variance_features\n",
    "        \n",
    "        df = pd.read_csv(f\"{csv_folder_path_unprep}/{filename}\")\n",
    "        shrinked_df_arr = []\n",
    "        for i in chosen_features:\n",
    "             shrinked_df_arr.append(np.array(df.iloc[:, i]))\n",
    "        \n",
    "        shrinked_df = pd.DataFrame(shrinked_df_arr)\n",
    "        shrinked_df_t = shrinked_df.T\n",
    "        shrinked_df_t.to_csv(f\"/Users/harun/Desktop/Uni/4. Semester/Data Mining/DataMining_TeamA/resources/data_shrinked/{filename[:-4]}-shrinked.csv\", index=False)"
   ]
  }
 ],
 "metadata": {
  "kernelspec": {
   "display_name": "realenv",
   "language": "python",
   "name": "python3"
  },
  "language_info": {
   "codemirror_mode": {
    "name": "ipython",
    "version": 3
   },
   "file_extension": ".py",
   "mimetype": "text/x-python",
   "name": "python",
   "nbconvert_exporter": "python",
   "pygments_lexer": "ipython3",
   "version": "3.9.16"
  },
  "orig_nbformat": 4
 },
 "nbformat": 4,
 "nbformat_minor": 2
}
