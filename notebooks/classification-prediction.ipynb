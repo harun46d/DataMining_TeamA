{
 "cells": [
  {
   "cell_type": "code",
   "execution_count": 2,
   "id": "d72d5012-f9d1-4a05-9a40-99a3aed0667a",
   "metadata": {
    "tags": []
   },
   "outputs": [],
   "source": [
    "import numpy as np\n",
    "from keras.models import Sequential\n",
    "from keras.layers import Dense\n",
    "import pandas as pd\n",
    "from sklearn.model_selection import train_test_split\n",
    "from keras.utils import to_categorical\n",
    "from keras.optimizers import Adam\n",
    "\n",
    "from sklearn.metrics import accuracy_score\n",
    "from sklearn.metrics import confusion_matrix\n",
    "\n",
    "import sys\n",
    "\n",
    "import matplotlib.pyplot as plt"
   ]
  },
  {
   "cell_type": "code",
   "execution_count": 3,
   "id": "f7356bbc-1242-40c3-b3cb-e4a34c0961f4",
   "metadata": {
    "tags": []
   },
   "outputs": [],
   "source": [
    "#folder_repository = \"/Users/harun/Desktop/Uni/4. Semester/Data Mining/DataMining_TeamA\"\n",
    "folder_repository = \"C:/Users/andre/Documents/Github/DataMining_TeamA\"\n",
    "\n",
    "folder_data = f\"{folder_repository}/resources/data_classification\"\n",
    "folder_labels = f\"{folder_repository}/resources/data_classification/labels\"\n",
    "folder_output = f\"{folder_repository}/output/classification\""
   ]
  },
  {
   "cell_type": "code",
   "execution_count": 16,
   "id": "d5648819-e41a-43b0-9ac3-24de26dc9f94",
   "metadata": {
    "tags": []
   },
   "outputs": [],
   "source": [
    "def accuracy(Y_test, predictions, dataset):\n",
    "    # extract neurons with most activation\n",
    "    predicted_classes = []\n",
    "    for prediction in predictions:\n",
    "        predicted_classes.append(np.argmax(prediction))\n",
    "\n",
    "    accuracy = accuracy_score(Y_test, predicted_classes)\n",
    "    print(f\"{dataset}: {accuracy}\")\n",
    "    return accuracy"
   ]
  },
  {
   "cell_type": "code",
   "execution_count": 24,
   "id": "481c14a8-f753-4be9-8ec4-114108cd2cbc",
   "metadata": {
    "tags": []
   },
   "outputs": [],
   "source": [
    "def model_arch(data, dataset, testsplit: float, activation, hidden_layers: int, neurons: int, learn_rate_adam: float, epochs: int, batch_size: int, metrics: list):      \n",
    "\n",
    "    # Split datasets into train and test\n",
    "    X_train, X_test, Y_train, Y_test = train_test_split(data.iloc[:, :-1], data.iloc[:, -1], test_size=testsplit, shuffle = True)\n",
    "\n",
    "    # labels are intepretated as ordinal, so the model need to know, that the labels are categories\n",
    "    Y_train_encoded = to_categorical(Y_train)\n",
    "    Y_test_encoded = to_categorical(Y_test)\n",
    "\n",
    "        # Create NN model\n",
    "    model = Sequential()\n",
    "    for i in range(hidden_layers):\n",
    "        model.add(Dense(neurons, activation=activation))\n",
    "    model.add(Dense(30, activation='softmax'))\n",
    "        \n",
    "    optimizer=Adam(learning_rate=learn_rate_adam)\n",
    "\n",
    "    # compile model\n",
    "    model.compile(optimizer=optimizer, loss='categorical_crossentropy', metrics=metrics)\n",
    "\n",
    "        # train model\n",
    "    model.fit(X_train, Y_train_encoded, epochs=epochs, batch_size=batch_size, verbose=0)\n",
    "        \n",
    "    predictions = model.predict(X_test)\n",
    "    acc = accuracy(Y_test, predictions, dataset[:2])\n",
    "    #feature_importance(model)\n",
    "    return {\"model\":model, \"acc\":acc}\n",
    "        "
   ]
  },
  {
   "cell_type": "code",
   "execution_count": 25,
   "id": "925b4790-6338-46cb-960e-066e0d15e7ea",
   "metadata": {
    "tags": []
   },
   "outputs": [
    {
     "name": "stdout",
     "output_type": "stream",
     "text": [
      "x0_with_labels.csv\n",
      "184/184 [==============================] - 0s 1ms/step\n",
      "x0: 0.990269716626835\n"
     ]
    },
    {
     "data": {
      "text/plain": [
       "{'model': <keras.src.engine.sequential.Sequential at 0x26e8a6c9b20>,\n",
       " 'acc': 0.990269716626835}"
      ]
     },
     "execution_count": 25,
     "metadata": {},
     "output_type": "execute_result"
    }
   ],
   "source": [
    "dataset = 'x0_with_labels.csv'\n",
    "data = pd.read_csv(f\"{folder_data}/{dataset}\")\n",
    "df = pd.DataFrame(data)\n",
    "\n",
    "print(dataset)\n",
    "#data.drop(data.columns[[0,1,2,3,4,5,9,10,14,15,19,20,21,22,23,24]], axis=1, inplace=True)\n",
    "#print(data.head())\n",
    "\n",
    "model_arch(data,\n",
    "           dataset,\n",
    "           testsplit=0.2, \n",
    "           activation='relu', \n",
    "           hidden_layers=2, \n",
    "           neurons=128, \n",
    "           learn_rate_adam=0.001, \n",
    "           epochs=24, \n",
    "           batch_size=30, \n",
    "           metrics=['accuracy'])\n"
   ]
  },
  {
   "cell_type": "code",
   "execution_count": 30,
   "id": "84b42622-2a60-4ac3-b7c6-4ab3cdcd7aff",
   "metadata": {
    "tags": []
   },
   "outputs": [
    {
     "name": "stdout",
     "output_type": "stream",
     "text": [
      "0\n",
      "184/184 [==============================] - 0s 1ms/step\n",
      "x0: 0.9895868897234551\n",
      "1\n",
      "184/184 [==============================] - 0s 995us/step\n",
      "x0: 0.9889040628200751\n",
      "2\n",
      "184/184 [==============================] - 0s 1ms/step\n",
      "x0: 0.9909525435302151\n",
      "3\n",
      "184/184 [==============================] - 0s 1ms/step\n",
      "x0: 0.9875384090133151\n",
      "4\n",
      "184/184 [==============================] - 0s 1ms/step\n",
      "x0: 0.9877091157391601\n",
      "5\n",
      "184/184 [==============================] - 0s 1ms/step\n",
      "x0: 0.9877091157391601\n",
      "6\n",
      "184/184 [==============================] - 0s 1ms/step\n",
      "x0: 0.9885626493683851\n",
      "7\n",
      "184/184 [==============================] - 0s 1ms/step\n",
      "x0: 0.9849778081256402\n",
      "8\n",
      "184/184 [==============================] - 0s 1ms/step\n",
      "x0: 0.9885626493683851\n",
      "9\n",
      "184/184 [==============================] - 0s 1ms/step\n",
      "x0: 0.9894161829976101\n",
      "10\n",
      "184/184 [==============================] - 0s 1ms/step\n",
      "x0: 0.9871969955616251\n",
      "11\n",
      "184/184 [==============================] - 0s 1ms/step\n",
      "x0: 0.9889040628200751\n",
      "12\n",
      "184/184 [==============================] - 0s 1ms/step\n",
      "x0: 0.9878798224650052\n",
      "13\n",
      "184/184 [==============================] - 0s 1ms/step\n",
      "x0: 0.990269716626835\n",
      "14\n",
      "184/184 [==============================] - 0s 1ms/step\n",
      "x0: 0.9854899283031752\n",
      "15\n",
      "184/184 [==============================] - 0s 1ms/step\n",
      "x0: 0.9890747695459201\n",
      "16\n",
      "184/184 [==============================] - 0s 1ms/step\n",
      "x0: 0.9889040628200751\n",
      "17\n",
      "184/184 [==============================] - 0s 1ms/step\n",
      "x0: 0.9899283031751451\n",
      "18\n",
      "184/184 [==============================] - 0s 985us/step\n",
      "x0: 0.990269716626835\n",
      "19\n",
      "184/184 [==============================] - 0s 1ms/step\n",
      "x0: 0.9887333560942301\n",
      "20\n",
      "184/184 [==============================] - 0s 1ms/step\n",
      "x0: 0.9868555821099352\n",
      "21\n",
      "184/184 [==============================] - 0s 1ms/step\n",
      "x0: 0.9866848753840901\n",
      "22\n",
      "184/184 [==============================] - 0s 1ms/step\n",
      "x0: 0.9897575964493001\n",
      "23\n",
      "184/184 [==============================] - 0s 1ms/step\n",
      "x0: 0.9897575964493001\n",
      "24\n",
      "184/184 [==============================] - 0s 1ms/step\n",
      "x0: 0.9900990099009901\n"
     ]
    }
   ],
   "source": [
    "dataset = 'x0_with_labels.csv'\n",
    "data = pd.read_csv(f\"{folder_data}/{dataset}\")\n",
    "df = pd.DataFrame(data)\n",
    "\n",
    "models = []\n",
    "for i in range(25):\n",
    "    print(i)\n",
    "    models.append(model_arch(data,\n",
    "           dataset,\n",
    "           testsplit=0.2, \n",
    "           activation='relu', \n",
    "           hidden_layers=2, \n",
    "           neurons=128, \n",
    "           learn_rate_adam=0.001, \n",
    "           epochs=24, \n",
    "           batch_size=30, \n",
    "           metrics=['accuracy']))\n",
    "    \n",
    "    "
   ]
  },
  {
   "cell_type": "code",
   "execution_count": 31,
   "id": "e31b28c8-b34c-4f86-91cd-a8f0b3c8278a",
   "metadata": {
    "tags": []
   },
   "outputs": [
    {
     "name": "stdout",
     "output_type": "stream",
     "text": [
      "0.9909525435302151\n"
     ]
    }
   ],
   "source": [
    "current_acc = 0\n",
    "current_model = models[0][\"model\"]\n",
    "for d in models:\n",
    "    if d[\"acc\"] > current_acc:\n",
    "        current_acc=d[\"acc\"]\n",
    "        current_model=d[\"model\"]\n",
    "print(current_acc)"
   ]
  },
  {
   "cell_type": "code",
   "execution_count": null,
   "id": "89b2ab83-7827-4da1-ad0a-6d528ef9e2b4",
   "metadata": {},
   "outputs": [],
   "source": []
  }
 ],
 "metadata": {
  "kernelspec": {
   "display_name": "Python 3",
   "language": "python",
   "name": "python3"
  },
  "language_info": {
   "codemirror_mode": {
    "name": "ipython",
    "version": 3
   },
   "file_extension": ".py",
   "mimetype": "text/x-python",
   "name": "python",
   "nbconvert_exporter": "python",
   "pygments_lexer": "ipython3",
   "version": "3.9.4"
  }
 },
 "nbformat": 4,
 "nbformat_minor": 5
}
