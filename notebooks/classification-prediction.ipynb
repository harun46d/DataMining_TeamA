{
 "cells": [
  {
   "cell_type": "code",
   "execution_count": 3,
   "id": "d72d5012-f9d1-4a05-9a40-99a3aed0667a",
   "metadata": {
    "tags": []
   },
   "outputs": [],
   "source": [
    "import numpy as np\n",
    "from keras.models import Sequential\n",
    "from keras.layers import Dense\n",
    "import pandas as pd\n",
    "from sklearn.model_selection import train_test_split\n",
    "from keras.utils import to_categorical\n",
    "from keras.optimizers import Adam\n",
    "\n",
    "from sklearn.metrics import accuracy_score\n",
    "from sklearn.metrics import confusion_matrix\n",
    "\n",
    "import sys\n",
    "\n",
    "import matplotlib.pyplot as plt"
   ]
  },
  {
   "cell_type": "code",
   "execution_count": 4,
   "id": "f7356bbc-1242-40c3-b3cb-e4a34c0961f4",
   "metadata": {
    "tags": []
   },
   "outputs": [],
   "source": [
    "#folder_repository = \"/Users/harun/Desktop/Uni/4. Semester/Data Mining/DataMining_TeamA\"\n",
    "folder_repository = \"C:/Users/andre/Documents/Github/DataMining_TeamA\"\n",
    "\n",
    "folder_data = f\"{folder_repository}/resources/data_classification\"\n",
    "folder_labels = f\"{folder_repository}/resources/data_classification/labels\"\n",
    "folder_output = f\"{folder_repository}/output/classification\""
   ]
  },
  {
   "cell_type": "code",
   "execution_count": 5,
   "id": "d5648819-e41a-43b0-9ac3-24de26dc9f94",
   "metadata": {
    "tags": []
   },
   "outputs": [],
   "source": [
    "def accuracy(Y_test, predictions, dataset):\n",
    "    # extract neurons with most activation\n",
    "    predicted_classes = []\n",
    "    for prediction in predictions:\n",
    "        predicted_classes.append(np.argmax(prediction))\n",
    "\n",
    "    accuracy = accuracy_score(Y_test, predicted_classes)\n",
    "    print(f\"{dataset}: {accuracy}\")"
   ]
  },
  {
   "cell_type": "code",
   "execution_count": 18,
   "id": "481c14a8-f753-4be9-8ec4-114108cd2cbc",
   "metadata": {
    "tags": []
   },
   "outputs": [],
   "source": [
    "def model_arch(data, dataset, testsplit: float, activation, hidden_layers: int, neurons: int, learn_rate_adam: float, epochs: int, batch_size: int, metrics: list):      \n",
    "\n",
    "    # Split datasets into train and test\n",
    "    X_train, X_test, Y_train, Y_test = train_test_split(data.iloc[:, :-1], data.iloc[:, -1], test_size=testsplit, shuffle = True)\n",
    "\n",
    "    # labels are intepretated as ordinal, so the model need to know, that the labels are categories\n",
    "    Y_train_encoded = to_categorical(Y_train)\n",
    "    Y_test_encoded = to_categorical(Y_test)\n",
    "\n",
    "        # Create NN model\n",
    "    model = Sequential()\n",
    "    for i in range(hidden_layers):\n",
    "        model.add(Dense(neurons, activation=activation))\n",
    "    model.add(Dense(30, activation='softmax'))\n",
    "        \n",
    "    optimizer=Adam(learning_rate=learn_rate_adam)\n",
    "\n",
    "    # compile model\n",
    "    model.compile(optimizer=optimizer, loss='categorical_crossentropy', metrics=metrics)\n",
    "\n",
    "        # train model\n",
    "    model.fit(X_train, Y_train_encoded, epochs=epochs, batch_size=batch_size, verbose=0)\n",
    "        \n",
    "    predictions = model.predict(X_test)\n",
    "    accuracy(Y_test, predictions, dataset[:2])\n",
    "    #feature_importance(model)\n",
    "    return model\n",
    "        "
   ]
  },
  {
   "cell_type": "code",
   "execution_count": 47,
   "id": "925b4790-6338-46cb-960e-066e0d15e7ea",
   "metadata": {
    "tags": []
   },
   "outputs": [
    {
     "name": "stdout",
     "output_type": "stream",
     "text": [
      "x0_with_labels.csv\n",
      "          6         7         8        11        12        13        16  \\\n",
      "0  1.118922  1.031271  0.140322  0.906914  0.019883  1.144917  1.024906   \n",
      "1  1.151829  1.129700 -0.141736  0.841082 -0.174482  1.020378  0.875244   \n",
      "2  0.899079 -0.009652 -0.000686  1.039476 -0.013493  0.250556 -0.012422   \n",
      "3 -0.052427 -0.102169  1.027937 -0.046632  1.032304  1.032806  0.137392   \n",
      "4  0.121280  0.016012  0.000900  0.787623  1.072714  0.186112  1.101517   \n",
      "\n",
      "         17        18  Labels  \n",
      "0  1.000246  0.067353       1  \n",
      "1  0.031351 -0.148845      24  \n",
      "2  1.163990  1.071173      17  \n",
      "3  0.956810  0.965369      14  \n",
      "4  1.096771  0.850321      14  \n",
      "275/275 [==============================] - 0s 972us/step\n",
      "x0: 0.9770114942528736\n"
     ]
    },
    {
     "data": {
      "text/plain": [
       "<keras.src.engine.sequential.Sequential at 0x222dccdf670>"
      ]
     },
     "execution_count": 47,
     "metadata": {},
     "output_type": "execute_result"
    }
   ],
   "source": [
    "dataset = 'x0_with_labels.csv'\n",
    "data = pd.read_csv(f\"{folder_data}/{dataset}\")\n",
    "df = pd.DataFrame(data)\n",
    "\n",
    "print(dataset)\n",
    "#data.drop(data.columns[[0,1,2,3,4,5,9,10,14,15,19,20,21,22,23,24]], axis=1, inplace=True)\n",
    "print(data.head())\n",
    "\n",
    "model_arch(data,\n",
    "           dataset,\n",
    "           testsplit=0.3, \n",
    "           activation='relu', \n",
    "           hidden_layers=2, \n",
    "           neurons=64, \n",
    "           learn_rate_adam=0.001, \n",
    "           epochs=8, \n",
    "           batch_size=30, \n",
    "           metrics=['accuracy'])\n"
   ]
  },
  {
   "cell_type": "code",
   "execution_count": null,
   "id": "a942bb91-bd7d-42f6-adf0-60c2fac40a03",
   "metadata": {},
   "outputs": [],
   "source": [
    "filename=f\"{folder_output}/acc2.csv\"\n",
    "mode=\"w\"\n",
    "sys.stdout = open(filename, mode)\n",
    "\n",
    "\n",
    "testsplit=[0.15, 0.25, 0.5] #[0.1, 0.15, 0.2, 0.25, 0.3, 0.5]\n",
    "activation=['relu', 'sigmoid', 'linear'] #['relu', 'sigmoid', 'tanh', 'linear']\n",
    "hidden_layers=[2, 3, 4, 5]\n",
    "neurons=[32, 64, 128]\n",
    "learn_rate_adam=[0.0001]\n",
    "epochs=[4, 8, 12, 16, 20]\n",
    "batch_size=[32, 64, 128]\n",
    "metrics=[['accuracy'], ['top_k_accuracy']] #[['accuracy'], ['top_k_accuracy'], ['true_positives']]\n",
    "\n",
    "print(f\"testsplit;activation;hidden_layers;neurons;learn_rate_adam;epochs;batch_size;metrics;x0;acc_x0;x1;acc_x1;x2;acc_x2;0\")\n",
    "\n",
    "for t in testsplit:\n",
    "    for a in activation:\n",
    "        for h in hidden_layers:\n",
    "            for n in neurons:\n",
    "                for l in learn_rate_adam:\n",
    "                    for e in epochs:\n",
    "                        for b in batch_size:\n",
    "                            for m in metrics:\n",
    "                                print(f\"{t};{a};{h};{n};{l};{e};{b};{m};\", end=\"\")\n",
    "                                model_arch(testsplit=t, activation=a, hidden_layers=h , neurons=n, learn_rate_adam=l, epochs=e, batch_size=b, metrics=m)\n",
    "                                print(\"0\")"
   ]
  }
 ],
 "metadata": {
  "kernelspec": {
   "display_name": "Python 3",
   "language": "python",
   "name": "python3"
  },
  "language_info": {
   "codemirror_mode": {
    "name": "ipython",
    "version": 3
   },
   "file_extension": ".py",
   "mimetype": "text/x-python",
   "name": "python",
   "nbconvert_exporter": "python",
   "pygments_lexer": "ipython3",
   "version": "3.9.4"
  }
 },
 "nbformat": 4,
 "nbformat_minor": 5
}
