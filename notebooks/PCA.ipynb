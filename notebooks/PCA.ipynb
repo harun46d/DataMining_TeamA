{
 "cells": [
  {
   "cell_type": "code",
   "execution_count": 1,
   "id": "fe47e179-cdf2-4e89-be2d-6e91024d75a9",
   "metadata": {
    "tags": []
   },
   "outputs": [],
   "source": [
    "from sklearn.decomposition import PCA\n",
    "import numpy as np\n",
    "import pandas as pd\n",
    "import matplotlib.pyplot as plt\n",
    "import matplotlib.backends.backend_pdf as pdf\n",
    "import os\n"
   ]
  },
  {
   "cell_type": "code",
   "execution_count": 2,
   "id": "f4af19fa-a69c-4366-a85c-7a5a1131a228",
   "metadata": {
    "tags": []
   },
   "outputs": [],
   "source": [
    "#folder_repository = \"C:/Users/andre/Documents/Github/DataMining_TeamA\"\n",
    "folder_repository = \"/Users/harun/Desktop/Uni/4. Semester/Data Mining/DataMining_TeamA\"\n",
    "\n",
    "folder_res = f\"{folder_repository}/resources/data\"\n",
    "folder_prep = f\"{folder_repository}/resources/data-prep\"\n",
    "folder_shrinked = f\"{folder_repository}/resources/data_shrinked\"\n",
    "folder_output = f\"{folder_repository}/output/plots\"\n",
    "\n",
    "filename = \"pca-shrinked.pdf\"\n",
    "\n",
    "cwd = os.getcwd()"
   ]
  },
  {
   "cell_type": "code",
   "execution_count": 15,
   "id": "3d05daaf-60ab-41b5-be15-f895a7e5246d",
   "metadata": {
    "tags": []
   },
   "outputs": [],
   "source": [
    "def pca(folder_path):\n",
    "    all_datasets = os.listdir(folder_path)\n",
    "    for filename in all_datasets:\n",
    "        if filename.endswith(\".csv\"): \n",
    "            df = pd.read_csv(f\"{folder_path}/{filename}\")\n",
    "            print(filename)\n",
    "            \n",
    "            cov = df.cov()\n",
    "            cov_num = cov.apply(pd.to_numeric)\n",
    "            \n",
    "            eigenvalues = np.linalg.eigvals(cov_num)\n",
    "            exp_var_rat = eigenvalues / np.sum(eigenvalues)\n",
    "            cum_sum_eigenvalues = np.cumsum(exp_var_rat)\n",
    "            \n",
    "            \n",
    "            print('explained variance ratio: %s' % str(exp_var_rat))\n",
    "            print('cummulative sum of eigenvalues: %s' % str(exp_var_rat))\n",
    "            \n",
    "            \n",
    "            plt.bar(range(0,len(exp_var_rat)), exp_var_rat, alpha=0.5, align='center', label='Individual explained variance')\n",
    "            plt.step(range(0,len(cum_sum_eigenvalues)), cum_sum_eigenvalues, where='mid',label='Cumulative explained variance')\n",
    "            plt.xticks(np.arange(0, len(cum_sum_eigenvalues), 1))\n",
    "            plt.yticks(np.arange(0, 1.05, 0.05))\n",
    "            plt.grid(visible=True, which='both', axis='y')\n",
    "            plt.ylabel('Explained variance ratio')\n",
    "            plt.xlabel('Principal component index')\n",
    "            plt.legend(loc='center')\n",
    "            plt.tight_layout()\n",
    "            plt.show()"
   ]
  },
  {
   "cell_type": "code",
   "execution_count": 39,
   "id": "56078701-8a25-49fc-b391-2af19dad2d5f",
   "metadata": {
    "tags": []
   },
   "outputs": [],
   "source": [
    "def pca2(folder_ressources, folder_output, filename_output):\n",
    "    #pdf_file = pdf.PdfPages(f\"{folder_output}/{filename_output}\")\n",
    "    all_datasets = os.listdir(folder_ressources)\n",
    "    for filename in all_datasets:\n",
    "        if filename.endswith(\".csv\"): \n",
    "            df = pd.read_csv(f\"{folder_ressources}/{filename}\")\n",
    "            print(filename)\n",
    "            \n",
    "            pca = PCA()\n",
    "            df_pca = pca.fit_transform(df)\n",
    "            exp_var = pca.explained_variance_ratio_\n",
    "            cum_sum_eigenvalues = np.cumsum(exp_var)\n",
    "            #print(cum_sum_eigenvalues)\n",
    "            \n",
    "            idx = 0\n",
    "            df = pd.read_csv(f\"{folder_shrinked}/{filename}\")\n",
    "            #print(df)\n",
    "            \n",
    "            for pc in cum_sum_eigenvalues:\n",
    "                if pc >= 0.78:\n",
    "                    #print(f\"idx: {idx}\")\n",
    "                    drop = (-idx+1+9) / -1\n",
    "                    #print(int(drop))\n",
    "                    df_pc = df.drop(columns = [])\n",
    "                    df_pc = df.iloc[:, :int(drop)]\n",
    "                    break\n",
    "                idx += 1\n",
    "            #print(df_pc)\n",
    "            print(idx)\n",
    "        \n",
    "            '''\n",
    "            plt.rcParams['figure.dpi'] = 100\n",
    "            plt.rcParams['savefig.dpi'] = 600\n",
    "\n",
    "            plt.figure().set_figwidth(max(3 + (len(cum_sum_eigenvalues)-8)/5, 6))\n",
    "            plt.bar(range(0,len(exp_var)), exp_var, alpha=0.5, align='center', label='Individual explained variance')\n",
    "            plt.step(range(0,len(cum_sum_eigenvalues)), cum_sum_eigenvalues, where='mid',label='Cumulative explained variance')\n",
    "            plt.ylabel('Explained variance ratio')\n",
    "            plt.xlabel('Principal component index')\n",
    "            plt.xticks(np.arange(0, len(cum_sum_eigenvalues), 1))\n",
    "            plt.yticks(np.arange(0, 1.05, 0.05))\n",
    "            plt.legend(loc='best')\n",
    "            plt.tight_layout()\n",
    "            plt.title(filename)\n",
    "            # plt.show()\n",
    "            pdf_file.savefig(plt.gcf(), bbox_inches='tight', transparent=True)  \n",
    "            '''\n",
    "    #pdf_file.close()\n",
    "            "
   ]
  },
  {
   "cell_type": "code",
   "execution_count": 40,
   "id": "a702bd3e-e4c3-46a8-8fb9-ceb99fa771e0",
   "metadata": {
    "tags": []
   },
   "outputs": [
    {
     "name": "stdout",
     "output_type": "stream",
     "text": [
      "x1-shrinked.csv\n",
      "5\n",
      "SUN-shrinked.csv\n",
      "4\n",
      "HITCHHIKER-shrinked.csv\n",
      "0\n",
      "x0-shrinked.csv\n",
      "2\n",
      "FIBONACCI-shrinked.csv\n",
      "4\n",
      "EINSTEIN-shrinked.csv\n",
      "4\n",
      "SYMMETRIC-shrinked.csv\n",
      "4\n",
      "HOBBIT-shrinked.csv\n",
      "4\n",
      "ROSETTA-shrinked.csv\n",
      "4\n",
      "EARTH-shrinked.csv\n",
      "0\n",
      "LOREM-shrinked.csv\n",
      "4\n",
      "NKS-shrinked.csv\n",
      "4\n",
      "SALT-shrinked.csv\n",
      "4\n",
      "x2-shrinked.csv\n",
      "5\n"
     ]
    }
   ],
   "source": [
    "pca2(folder_shrinked, folder_output, filename)"
   ]
  },
  {
   "cell_type": "code",
   "execution_count": null,
   "id": "64bfa8b0-ce50-4bbf-875a-2fab570fdf40",
   "metadata": {},
   "outputs": [],
   "source": []
  }
 ],
 "metadata": {
  "kernelspec": {
   "display_name": "Python 3",
   "language": "python",
   "name": "python3"
  },
  "language_info": {
   "codemirror_mode": {
    "name": "ipython",
    "version": 3
   },
   "file_extension": ".py",
   "mimetype": "text/x-python",
   "name": "python",
   "nbconvert_exporter": "python",
   "pygments_lexer": "ipython3",
   "version": "3.9.16"
  }
 },
 "nbformat": 4,
 "nbformat_minor": 5
}
