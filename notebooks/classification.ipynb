{
 "cells": [
  {
   "cell_type": "code",
   "execution_count": 58,
   "metadata": {},
   "outputs": [
    {
     "name": "stdout",
     "output_type": "stream",
     "text": [
      "Requirement already satisfied: graphviz in /Users/harun/opt/anaconda3/envs/realenv/lib/python3.9/site-packages (0.20.1)\n",
      "Collecting pydot\n",
      "  Downloading pydot-1.4.2-py2.py3-none-any.whl (21 kB)\n",
      "Requirement already satisfied: pyparsing>=2.1.4 in /Users/harun/opt/anaconda3/envs/realenv/lib/python3.9/site-packages (from pydot) (3.0.9)\n",
      "Installing collected packages: pydot\n",
      "Successfully installed pydot-1.4.2\n"
     ]
    }
   ],
   "source": [
    "!pip install graphviz\n",
    "!pip install pydot"
   ]
  },
  {
   "cell_type": "code",
   "execution_count": 67,
   "metadata": {},
   "outputs": [],
   "source": [
    "import numpy as np\n",
    "from keras.models import Sequential\n",
    "from keras.layers import Dense\n",
    "import pandas as pd\n",
    "from sklearn.model_selection import train_test_split\n",
    "from keras.utils import to_categorical\n",
    "\n",
    "from sklearn.metrics import accuracy_score\n",
    "from sklearn.metrics import confusion_matrix\n",
    "\n",
    "import matplotlib.pyplot as plt\n",
    "import seaborn as sns\n"
   ]
  },
  {
   "cell_type": "code",
   "execution_count": 3,
   "metadata": {},
   "outputs": [],
   "source": [
    "folder_repository = \"/Users/harun/Desktop/Uni/4. Semester/Data Mining/DataMining_TeamA\"\n",
    "\n",
    "folder_data = f\"{folder_repository}/resources/data_classification\"\n",
    "folder_labels = f\"{folder_repository}/resources/data_classification/labels\"\n"
   ]
  },
  {
   "cell_type": "code",
   "execution_count": 34,
   "metadata": {},
   "outputs": [
    {
     "name": "stderr",
     "output_type": "stream",
     "text": [
      "/var/folders/lk/v59w6y8j6853sjnmmcghklvh0000gn/T/ipykernel_18919/1773332542.py:9: DeprecationWarning: In a future version, `df.iloc[:, i] = newvals` will attempt to set the values inplace instead of always setting a new array. To retain the old behavior, use either `df[df.columns[i]] = newvals` or, if columns are non-unique, `df.isetitem(i, newvals)`\n",
      "  data.iloc[:, -1] = labels\n"
     ]
    }
   ],
   "source": [
    "data = pd.read_csv(f\"{folder_data}/x2.csv\")\n",
    "data_labels = pd.read_json(f\"{folder_data}/labels/y2.json\")\n",
    "\n",
    "labels = []\n",
    "# add labels to dataset\n",
    "for i in range(0, len(data_labels)):\n",
    "    labels.append(data_labels.iloc[i].item())\n",
    "\n",
    "data.iloc[:, -1] = labels\n",
    "data.to_csv('x2.csv', index=False)"
   ]
  },
  {
   "cell_type": "code",
   "execution_count": 40,
   "metadata": {},
   "outputs": [
    {
     "name": "stdout",
     "output_type": "stream",
     "text": [
      "Epoch 1/10\n",
      "687/687 [==============================] - 1s 1ms/step - loss: 0.7771 - accuracy: 0.8662\n",
      "Epoch 2/10\n",
      "687/687 [==============================] - 1s 1ms/step - loss: 0.1809 - accuracy: 0.9732\n",
      "Epoch 3/10\n",
      "687/687 [==============================] - 1s 1ms/step - loss: 0.1497 - accuracy: 0.9749\n",
      "Epoch 4/10\n",
      "687/687 [==============================] - 1s 1ms/step - loss: 0.1319 - accuracy: 0.9769\n",
      "Epoch 5/10\n",
      "687/687 [==============================] - 1s 1ms/step - loss: 0.1142 - accuracy: 0.9787\n",
      "Epoch 6/10\n",
      "687/687 [==============================] - 1s 1ms/step - loss: 0.1030 - accuracy: 0.9802\n",
      "Epoch 7/10\n",
      "687/687 [==============================] - 1s 1ms/step - loss: 0.0927 - accuracy: 0.9822\n",
      "Epoch 8/10\n",
      "687/687 [==============================] - 1s 1ms/step - loss: 0.0842 - accuracy: 0.9838\n",
      "Epoch 9/10\n",
      "687/687 [==============================] - 1s 1ms/step - loss: 0.0771 - accuracy: 0.9853\n",
      "Epoch 10/10\n",
      "687/687 [==============================] - 1s 1ms/step - loss: 0.0715 - accuracy: 0.9871\n",
      "229/229 [==============================] - 0s 819us/step\n",
      "[[1.6835804e-05 3.9977291e-08 7.7821512e-04 ... 1.3934419e-12\n",
      "  2.2881580e-11 9.9283504e-08]\n",
      " [1.0043697e-07 7.6770881e-11 2.9204555e-10 ... 8.5322185e-09\n",
      "  5.7553994e-16 1.1339644e-13]\n",
      " [2.0691708e-07 8.6777745e-06 8.2042388e-04 ... 1.1666409e-04\n",
      "  1.0610272e-09 4.4016634e-08]\n",
      " ...\n",
      " [3.4917274e-04 3.9431639e-04 2.5212937e-03 ... 3.8188535e-08\n",
      "  2.1903506e-07 3.7107240e-09]\n",
      " [1.0715149e-09 9.7349584e-01 8.9944777e-04 ... 2.9085079e-14\n",
      "  4.1616360e-08 1.1228656e-08]\n",
      " [7.1718964e-11 9.7980654e-01 3.4024238e-04 ... 5.8407909e-16\n",
      "  1.4618792e-09 1.2563164e-09]]\n"
     ]
    }
   ],
   "source": [
    "data = pd.read_csv(f\"{folder_data}/x0_with_labels.csv\")\n",
    "\n",
    "# Split datasets into train and test\n",
    "X_train, X_test, Y_train, Y_test = train_test_split(data.iloc[:, :-1], data.iloc[:, -1], test_size=0.25, shuffle = True)\n",
    "\n",
    "# labels are intepretated as ordinal, so the model need to know, that the labels are categories\n",
    "Y_train_encoded = to_categorical(Y_train)\n",
    "Y_test_encoded = to_categorical(Y_test)\n",
    "\n",
    "# Create NN model\n",
    "model = Sequential()\n",
    "model.add(Dense(64, activation='relu'))\n",
    "model.add(Dense(64, activation='relu'))\n",
    "model.add(Dense(30, activation='softmax'))\n",
    "\n",
    "model.compile(optimizer='adam', loss='categorical_crossentropy', metrics=['accuracy'])\n",
    "\n",
    "model.fit(X_train, Y_train_encoded, epochs=10, batch_size=32)\n",
    "predictions = model.predict(X_test)\n"
   ]
  },
  {
   "cell_type": "code",
   "execution_count": 65,
   "metadata": {},
   "outputs": [
    {
     "name": "stdout",
     "output_type": "stream",
     "text": [
      "0.9811526905217154\n",
      "You must install pydot (`pip install pydot`) and install graphviz (see instructions at https://graphviz.gitlab.io/download/) for plot_model to work.\n"
     ]
    }
   ],
   "source": [
    "# extract neurons with most activation\n",
    "predicted_classes = []\n",
    "for prediction in predictions:\n",
    "    predicted_classes.append(np.argmax(prediction))\n",
    "\n",
    "accuracy = accuracy_score(Y_test, predicted_classes)\n",
    "print(accuracy)\n"
   ]
  },
  {
   "cell_type": "code",
   "execution_count": 74,
   "metadata": {},
   "outputs": [
    {
     "name": "stdout",
     "output_type": "stream",
     "text": [
      "Feature 17:, Importance: 20.707456588745117\n",
      "Feature 19:, Importance: 19.319744110107422\n",
      "Feature 9:, Importance: 18.89411163330078\n",
      "Feature 14:, Importance: 18.468786239624023\n",
      "Feature 18:, Importance: 18.457622528076172\n",
      "Feature 12:, Importance: 18.331275939941406\n",
      "Feature 7:, Importance: 18.175268173217773\n",
      "Feature 13:, Importance: 18.04515266418457\n",
      "Feature 8:, Importance: 15.890237808227539\n",
      "Feature 11:, Importance: 12.719953536987305\n",
      "Feature 15:, Importance: 12.650253295898438\n",
      "Feature 22:, Importance: 12.629093170166016\n",
      "Feature 10:, Importance: 12.565032958984375\n",
      "Feature 6:, Importance: 12.475776672363281\n",
      "Feature 24:, Importance: 12.190483093261719\n",
      "Feature 16:, Importance: 11.98433780670166\n",
      "Feature 20:, Importance: 11.625144004821777\n",
      "Feature 4:, Importance: 11.289669036865234\n",
      "Feature 3:, Importance: 11.124408721923828\n",
      "Feature 23:, Importance: 10.85730266571045\n",
      "Feature 2:, Importance: 10.642818450927734\n",
      "Feature 25:, Importance: 10.520696640014648\n",
      "Feature 1:, Importance: 9.271180152893066\n",
      "Feature 5:, Importance: 8.894710540771484\n",
      "Feature 21:, Importance: 7.4279327392578125\n"
     ]
    }
   ],
   "source": [
    "# weights of the model\n",
    "weights = model.get_weights()\n",
    "\n",
    "# weights of first layer do have the most expressiveness, because it is directly connected to the input data\n",
    "weights_first_layer = weights[0]\n",
    "\n",
    "# number of features\n",
    "num_features = weights_first_layer.shape[0]\n",
    "\n",
    "# generate feature names\n",
    "feature_names = [f\"Feature {i+1}\" for i in range(num_features)]\n",
    "\n",
    "# compute sum of input layer\n",
    "feature_importance = np.sum(np.abs(weights_first_layer), axis=1)\n",
    "\n",
    "# sort list with decreasing importance\n",
    "sorted_features = sorted(zip(feature_importance, feature_names), reverse=True)\n",
    "\n",
    "# print\n",
    "for importance, feature_name in sorted_features:\n",
    "    print(f\"{feature_name}:, Importance: {importance}\")"
   ]
  }
 ],
 "metadata": {
  "kernelspec": {
   "display_name": "realenv",
   "language": "python",
   "name": "python3"
  },
  "language_info": {
   "codemirror_mode": {
    "name": "ipython",
    "version": 3
   },
   "file_extension": ".py",
   "mimetype": "text/x-python",
   "name": "python",
   "nbconvert_exporter": "python",
   "pygments_lexer": "ipython3",
   "version": "3.9.16"
  },
  "orig_nbformat": 4
 },
 "nbformat": 4,
 "nbformat_minor": 2
}
