{
 "cells": [
  {
   "cell_type": "code",
   "execution_count": 79,
   "metadata": {},
   "outputs": [],
   "source": [
    "import numpy as np\n",
    "from keras.models import Sequential\n",
    "from keras.layers import Dense\n",
    "import pandas as pd\n",
    "from sklearn.model_selection import train_test_split\n",
    "from keras.utils import to_categorical\n",
    "\n",
    "from sklearn.metrics import accuracy_score\n",
    "from sklearn.metrics import confusion_matrix\n",
    "\n",
    "import matplotlib.pyplot as plt"
   ]
  },
  {
   "cell_type": "code",
   "execution_count": 3,
   "metadata": {},
   "outputs": [],
   "source": [
    "folder_repository = \"/Users/harun/Desktop/Uni/4. Semester/Data Mining/DataMining_TeamA\"\n",
    "\n",
    "folder_data = f\"{folder_repository}/resources/data_classification\"\n",
    "folder_labels = f\"{folder_repository}/resources/data_classification/labels\"\n"
   ]
  },
  {
   "cell_type": "code",
   "execution_count": 34,
   "metadata": {},
   "outputs": [
    {
     "name": "stderr",
     "output_type": "stream",
     "text": [
      "/var/folders/lk/v59w6y8j6853sjnmmcghklvh0000gn/T/ipykernel_18919/1773332542.py:9: DeprecationWarning: In a future version, `df.iloc[:, i] = newvals` will attempt to set the values inplace instead of always setting a new array. To retain the old behavior, use either `df[df.columns[i]] = newvals` or, if columns are non-unique, `df.isetitem(i, newvals)`\n",
      "  data.iloc[:, -1] = labels\n"
     ]
    }
   ],
   "source": [
    "data = pd.read_csv(f\"{folder_data}/x2.csv\")\n",
    "data_labels = pd.read_json(f\"{folder_data}/labels/y2.json\")\n",
    "\n",
    "labels = []\n",
    "# add labels to dataset\n",
    "for i in range(0, len(data_labels)):\n",
    "    labels.append(data_labels.iloc[i].item())\n",
    "\n",
    "data.iloc[:, -1] = labels\n",
    "data.to_csv('x2.csv', index=False)"
   ]
  },
  {
   "cell_type": "code",
   "execution_count": 85,
   "metadata": {},
   "outputs": [],
   "source": [
    "def accuracy(Y_test, predictions, dataset):\n",
    "    # extract neurons with most activation\n",
    "    predicted_classes = []\n",
    "    for prediction in predictions:\n",
    "        predicted_classes.append(np.argmax(prediction))\n",
    "\n",
    "    accuracy = accuracy_score(Y_test, predicted_classes)\n",
    "    print(f\"{dataset}: {accuracy}\")\n"
   ]
  },
  {
   "cell_type": "code",
   "execution_count": 86,
   "metadata": {},
   "outputs": [],
   "source": [
    "def feature_importance(model):\n",
    "    # weights of the model\n",
    "    weights = model.get_weights()\n",
    "\n",
    "    # weights of first layer do have the most expressiveness, because it is directly connected to the input data\n",
    "    weights_first_layer = weights[0]\n",
    "\n",
    "    # number of features\n",
    "    num_features = weights_first_layer.shape[0]\n",
    "\n",
    "    # generate feature names\n",
    "    feature_names = [f\"Feature {i+1}\" for i in range(num_features)]\n",
    "\n",
    "    # compute sum of input layer\n",
    "    feature_importance = np.sum(np.abs(weights_first_layer), axis=1)\n",
    "\n",
    "    # sort list with decreasing importance\n",
    "    sorted_features = sorted(zip(feature_importance, feature_names), reverse=True)\n",
    "\n",
    "    #print(len(weights_first_layer[0]))\n",
    "    # print\n",
    "    for importance, feature_name in sorted_features:\n",
    "        print(f\"{feature_name}:, Importance: {importance / 64}\")"
   ]
  },
  {
   "cell_type": "code",
   "execution_count": null,
   "metadata": {},
   "outputs": [],
   "source": [
    "def model_arch():\n",
    "    datasets = ['x0_with_labels.csv', 'x1_with_labels.csv', 'x2_with_labels.csv']\n",
    "    for dataset in datasets:\n",
    "        data = pd.read_csv(f\"{folder_data}/{dataset}\")\n",
    "\n",
    "        # Split datasets into train and test\n",
    "        X_train, X_test, Y_train, Y_test = train_test_split(data.iloc[:, :-1], data.iloc[:, -1], test_size=0.25, shuffle = True)\n",
    "\n",
    "        # labels are intepretated as ordinal, so the model need to know, that the labels are categories\n",
    "        Y_train_encoded = to_categorical(Y_train)\n",
    "        Y_test_encoded = to_categorical(Y_test)\n",
    "\n",
    "        # Create NN model\n",
    "        model = Sequential()\n",
    "        model.add(Dense(64, activation='relu'))\n",
    "        model.add(Dense(64, activation='relu'))\n",
    "        model.add(Dense(30, activation='softmax'))\n",
    "\n",
    "        # compile model\n",
    "        model.compile(optimizer='adam', loss='categorical_crossentropy', metrics=['accuracy'])\n",
    "\n",
    "        # train model\n",
    "        model.fit(X_train, Y_train_encoded, epochs=10, batch_size=32)\n",
    "        \n",
    "        predictions = model.predict(X_test)\n",
    "        accuracy(Y_test, predictions, dataset[:2])\n",
    "        feature_importance(model)\n",
    "model_arch()"
   ]
  }
 ],
 "metadata": {
  "kernelspec": {
   "display_name": "realenv",
   "language": "python",
   "name": "python3"
  },
  "language_info": {
   "codemirror_mode": {
    "name": "ipython",
    "version": 3
   },
   "file_extension": ".py",
   "mimetype": "text/x-python",
   "name": "python",
   "nbconvert_exporter": "python",
   "pygments_lexer": "ipython3",
   "version": "3.9.16"
  },
  "orig_nbformat": 4
 },
 "nbformat": 4,
 "nbformat_minor": 2
}
