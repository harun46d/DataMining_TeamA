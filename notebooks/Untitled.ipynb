{
 "cells": [
  {
   "cell_type": "code",
   "execution_count": 1,
   "id": "09a2f1e4-47ee-49f5-97ed-e14aba308858",
   "metadata": {
    "tags": []
   },
   "outputs": [
    {
     "name": "stdout",
     "output_type": "stream",
     "text": [
      "hallo\n"
     ]
    }
   ],
   "source": [
    "print(\"hallo\")"
   ]
  },
  {
   "cell_type": "code",
   "execution_count": 2,
   "id": "d72d5012-f9d1-4a05-9a40-99a3aed0667a",
   "metadata": {
    "tags": []
   },
   "outputs": [],
   "source": [
    "import numpy as np\n",
    "from keras.models import Sequential\n",
    "from keras.layers import Dense\n",
    "import pandas as pd\n",
    "from sklearn.model_selection import train_test_split\n",
    "from keras.utils import to_categorical\n",
    "from keras.optimizers import Adam\n",
    "\n",
    "from sklearn.metrics import accuracy_score\n",
    "from sklearn.metrics import confusion_matrix\n",
    "\n",
    "import sys\n",
    "\n",
    "import matplotlib.pyplot as plt"
   ]
  },
  {
   "cell_type": "code",
   "execution_count": 7,
   "id": "f7356bbc-1242-40c3-b3cb-e4a34c0961f4",
   "metadata": {
    "tags": []
   },
   "outputs": [],
   "source": [
    "#folder_repository = \"/Users/harun/Desktop/Uni/4. Semester/Data Mining/DataMining_TeamA\"\n",
    "folder_repository = \"C:/Users/andre/Documents/Github/DataMining_TeamA\"\n",
    "\n",
    "folder_data = f\"{folder_repository}/resources/data_classification\"\n",
    "folder_labels = f\"{folder_repository}/resources/data_classification/labels\"\n",
    "folder_output = f\"{folder_repository}/output/classification\""
   ]
  },
  {
   "cell_type": "code",
   "execution_count": 33,
   "id": "d5648819-e41a-43b0-9ac3-24de26dc9f94",
   "metadata": {
    "tags": []
   },
   "outputs": [],
   "source": [
    "def accuracy(Y_test, predictions, dataset):\n",
    "    # extract neurons with most activation\n",
    "    predicted_classes = []\n",
    "    for prediction in predictions:\n",
    "        predicted_classes.append(np.argmax(prediction))\n",
    "\n",
    "    accuracy = accuracy_score(Y_test, predicted_classes)\n",
    "    print(f\"{dataset}: {accuracy}\")"
   ]
  },
  {
   "cell_type": "code",
   "execution_count": 40,
   "id": "481c14a8-f753-4be9-8ec4-114108cd2cbc",
   "metadata": {
    "tags": []
   },
   "outputs": [],
   "source": [
    "def model_arch(testsplit: float, activation, hidden_layers: int, neurons: int, learn_rate_adam: float, epochs: int, batch_size: int, metrics: list):\n",
    "    datasets = ['x0_with_labels.csv', 'x1_with_labels.csv', 'x2_with_labels.csv']\n",
    "    for dataset in datasets:\n",
    "        data = pd.read_csv(f\"{folder_data}/{dataset}\")\n",
    "\n",
    "        # Split datasets into train and test\n",
    "        X_train, X_test, Y_train, Y_test = train_test_split(data.iloc[:, :-1], data.iloc[:, -1], test_size=testsplit, shuffle = True)\n",
    "\n",
    "        # labels are intepretated as ordinal, so the model need to know, that the labels are categories\n",
    "        Y_train_encoded = to_categorical(Y_train)\n",
    "        Y_test_encoded = to_categorical(Y_test)\n",
    "\n",
    "        # Create NN model\n",
    "        model = Sequential()\n",
    "        for i in range(hidden_layers):\n",
    "            model.add(Dense(neurons, activation=activation))\n",
    "        model.add(Dense(30, activation='softmax'))\n",
    "        \n",
    "        optimizer=Adam(learning_rate=learn_rate_adam)\n",
    "\n",
    "        # compile model\n",
    "        model.compile(optimizer=optimizer, loss='categorical_crossentropy', metrics=metrics)\n",
    "\n",
    "        # train model\n",
    "        model.fit(X_train, Y_train_encoded, epochs=epochs, batch_size=batch_size, verbose=0)\n",
    "        \n",
    "        predictions = model.predict(X_test)\n",
    "        accuracy(Y_test, predictions, dataset[:2])\n",
    "        #feature_importance(model)\n",
    "        "
   ]
  },
  {
   "cell_type": "code",
   "execution_count": 49,
   "id": "925b4790-6338-46cb-960e-066e0d15e7ea",
   "metadata": {
    "tags": []
   },
   "outputs": [
    {
     "name": "stdout",
     "output_type": "stream",
     "text": [
      "1\n",
      "&&&&&&&&&&&&&&&&&&&&&&&&&&&&&&&&&&&&&&&&&&&&&&&&&&&&&&&&&&&&&&&&&&&&\n",
      "275/275 [==============================] - 0s 975us/step\n",
      "x0: 0.9850916126095368\n",
      "16/16 [==============================] - 0s 1ms/step\n",
      "x1: 0.9631901840490797\n",
      "16/16 [==============================] - 0s 1ms/step\n",
      "x2: 0.8057259713701431\n"
     ]
    }
   ],
   "source": [
    "for a in [1]:\n",
    "    print(a)\n",
    "    print(\"&&&&&&&&&&&&&&&&&&&&&&&&&&&&&&&&&&&&&&&&&&&&&&&&&&&&&&&&&&&&&&&&&&&&\")\n",
    "    model_arch(testsplit=0.3, activation='relu', hidden_layers=2, neurons=64, learn_rate_adam=0.001, epochs=16, batch_size=30, metrics=['accuracy'])"
   ]
  },
  {
   "cell_type": "code",
   "execution_count": null,
   "id": "b8cf8c40-28e2-44a5-bf5f-be877caa576c",
   "metadata": {},
   "outputs": [],
   "source": []
  }
 ],
 "metadata": {
  "kernelspec": {
   "display_name": "Python 3",
   "language": "python",
   "name": "python3"
  },
  "language_info": {
   "codemirror_mode": {
    "name": "ipython",
    "version": 3
   },
   "file_extension": ".py",
   "mimetype": "text/x-python",
   "name": "python",
   "nbconvert_exporter": "python",
   "pygments_lexer": "ipython3",
   "version": "3.9.4"
  }
 },
 "nbformat": 4,
 "nbformat_minor": 5
}
